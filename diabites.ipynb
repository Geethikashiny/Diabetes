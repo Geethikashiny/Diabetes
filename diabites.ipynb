{
  "cells": [
    {
      "cell_type": "code",
      "execution_count": null,
      "metadata": {
        "id": "I4kI4LHk6iRA"
      },
      "outputs": [],
      "source": [
        "import pandas as pd\n",
        "import matplotlib.pyplot as plt\n",
        "import numpy as np\n",
        "import seaborn as sns\n",
        "\n",
        "from sklearn.preprocessing import StandardScaler\n",
        "from sklearn.model_selection import train_test_split\n",
        "from sklearn.neighbors import KNeighborsClassifier\n",
        "from sklearn.metrics import confusion_matrix\n",
        "from sklearn.metrics import accuracy_score\n",
        "import pickle"
      ]
    },
    {
      "cell_type": "code",
      "execution_count": null,
      "metadata": {
        "colab": {
          "base_uri": "https://localhost:8080/"
        },
        "id": "F0XE0CLb6vq4",
        "outputId": "3d201876-2dee-48fd-b21e-9c666b2b4f6a"
      },
      "outputs": [
        {
          "output_type": "execute_result",
          "data": {
            "text/plain": [
              "   Pregnancies  Glucose  BloodPressure  SkinThickness  Insulin   BMI  \\\n",
              "0            6      148             72             35        0  33.6   \n",
              "1            1       85             66             29        0  26.6   \n",
              "2            8      183             64              0        0  23.3   \n",
              "3            1       89             66             23       94  28.1   \n",
              "4            0      137             40             35      168  43.1   \n",
              "\n",
              "   DiabetesPedigreeFunction  Age  Outcome  \n",
              "0                     0.627   50        1  \n",
              "1                     0.351   31        0  \n",
              "2                     0.672   32        1  \n",
              "3                     0.167   21        0  \n",
              "4                     2.288   33        1  "
            ],
            "text/html": [
              "\n",
              "  <div id=\"df-a5f2c593-e6c4-4abf-bbb9-2e2034225093\">\n",
              "    <div class=\"colab-df-container\">\n",
              "      <div>\n",
              "<style scoped>\n",
              "    .dataframe tbody tr th:only-of-type {\n",
              "        vertical-align: middle;\n",
              "    }\n",
              "\n",
              "    .dataframe tbody tr th {\n",
              "        vertical-align: top;\n",
              "    }\n",
              "\n",
              "    .dataframe thead th {\n",
              "        text-align: right;\n",
              "    }\n",
              "</style>\n",
              "<table border=\"1\" class=\"dataframe\">\n",
              "  <thead>\n",
              "    <tr style=\"text-align: right;\">\n",
              "      <th></th>\n",
              "      <th>Pregnancies</th>\n",
              "      <th>Glucose</th>\n",
              "      <th>BloodPressure</th>\n",
              "      <th>SkinThickness</th>\n",
              "      <th>Insulin</th>\n",
              "      <th>BMI</th>\n",
              "      <th>DiabetesPedigreeFunction</th>\n",
              "      <th>Age</th>\n",
              "      <th>Outcome</th>\n",
              "    </tr>\n",
              "  </thead>\n",
              "  <tbody>\n",
              "    <tr>\n",
              "      <th>0</th>\n",
              "      <td>6</td>\n",
              "      <td>148</td>\n",
              "      <td>72</td>\n",
              "      <td>35</td>\n",
              "      <td>0</td>\n",
              "      <td>33.6</td>\n",
              "      <td>0.627</td>\n",
              "      <td>50</td>\n",
              "      <td>1</td>\n",
              "    </tr>\n",
              "    <tr>\n",
              "      <th>1</th>\n",
              "      <td>1</td>\n",
              "      <td>85</td>\n",
              "      <td>66</td>\n",
              "      <td>29</td>\n",
              "      <td>0</td>\n",
              "      <td>26.6</td>\n",
              "      <td>0.351</td>\n",
              "      <td>31</td>\n",
              "      <td>0</td>\n",
              "    </tr>\n",
              "    <tr>\n",
              "      <th>2</th>\n",
              "      <td>8</td>\n",
              "      <td>183</td>\n",
              "      <td>64</td>\n",
              "      <td>0</td>\n",
              "      <td>0</td>\n",
              "      <td>23.3</td>\n",
              "      <td>0.672</td>\n",
              "      <td>32</td>\n",
              "      <td>1</td>\n",
              "    </tr>\n",
              "    <tr>\n",
              "      <th>3</th>\n",
              "      <td>1</td>\n",
              "      <td>89</td>\n",
              "      <td>66</td>\n",
              "      <td>23</td>\n",
              "      <td>94</td>\n",
              "      <td>28.1</td>\n",
              "      <td>0.167</td>\n",
              "      <td>21</td>\n",
              "      <td>0</td>\n",
              "    </tr>\n",
              "    <tr>\n",
              "      <th>4</th>\n",
              "      <td>0</td>\n",
              "      <td>137</td>\n",
              "      <td>40</td>\n",
              "      <td>35</td>\n",
              "      <td>168</td>\n",
              "      <td>43.1</td>\n",
              "      <td>2.288</td>\n",
              "      <td>33</td>\n",
              "      <td>1</td>\n",
              "    </tr>\n",
              "  </tbody>\n",
              "</table>\n",
              "</div>\n",
              "      <button class=\"colab-df-convert\" onclick=\"convertToInteractive('df-a5f2c593-e6c4-4abf-bbb9-2e2034225093')\"\n",
              "              title=\"Convert this dataframe to an interactive table.\"\n",
              "              style=\"display:none;\">\n",
              "        \n",
              "  <svg xmlns=\"http://www.w3.org/2000/svg\" height=\"24px\"viewBox=\"0 0 24 24\"\n",
              "       width=\"24px\">\n",
              "    <path d=\"M0 0h24v24H0V0z\" fill=\"none\"/>\n",
              "    <path d=\"M18.56 5.44l.94 2.06.94-2.06 2.06-.94-2.06-.94-.94-2.06-.94 2.06-2.06.94zm-11 1L8.5 8.5l.94-2.06 2.06-.94-2.06-.94L8.5 2.5l-.94 2.06-2.06.94zm10 10l.94 2.06.94-2.06 2.06-.94-2.06-.94-.94-2.06-.94 2.06-2.06.94z\"/><path d=\"M17.41 7.96l-1.37-1.37c-.4-.4-.92-.59-1.43-.59-.52 0-1.04.2-1.43.59L10.3 9.45l-7.72 7.72c-.78.78-.78 2.05 0 2.83L4 21.41c.39.39.9.59 1.41.59.51 0 1.02-.2 1.41-.59l7.78-7.78 2.81-2.81c.8-.78.8-2.07 0-2.86zM5.41 20L4 18.59l7.72-7.72 1.47 1.35L5.41 20z\"/>\n",
              "  </svg>\n",
              "      </button>\n",
              "      \n",
              "  <style>\n",
              "    .colab-df-container {\n",
              "      display:flex;\n",
              "      flex-wrap:wrap;\n",
              "      gap: 12px;\n",
              "    }\n",
              "\n",
              "    .colab-df-convert {\n",
              "      background-color: #E8F0FE;\n",
              "      border: none;\n",
              "      border-radius: 50%;\n",
              "      cursor: pointer;\n",
              "      display: none;\n",
              "      fill: #1967D2;\n",
              "      height: 32px;\n",
              "      padding: 0 0 0 0;\n",
              "      width: 32px;\n",
              "    }\n",
              "\n",
              "    .colab-df-convert:hover {\n",
              "      background-color: #E2EBFA;\n",
              "      box-shadow: 0px 1px 2px rgba(60, 64, 67, 0.3), 0px 1px 3px 1px rgba(60, 64, 67, 0.15);\n",
              "      fill: #174EA6;\n",
              "    }\n",
              "\n",
              "    [theme=dark] .colab-df-convert {\n",
              "      background-color: #3B4455;\n",
              "      fill: #D2E3FC;\n",
              "    }\n",
              "\n",
              "    [theme=dark] .colab-df-convert:hover {\n",
              "      background-color: #434B5C;\n",
              "      box-shadow: 0px 1px 3px 1px rgba(0, 0, 0, 0.15);\n",
              "      filter: drop-shadow(0px 1px 2px rgba(0, 0, 0, 0.3));\n",
              "      fill: #FFFFFF;\n",
              "    }\n",
              "  </style>\n",
              "\n",
              "      <script>\n",
              "        const buttonEl =\n",
              "          document.querySelector('#df-a5f2c593-e6c4-4abf-bbb9-2e2034225093 button.colab-df-convert');\n",
              "        buttonEl.style.display =\n",
              "          google.colab.kernel.accessAllowed ? 'block' : 'none';\n",
              "\n",
              "        async function convertToInteractive(key) {\n",
              "          const element = document.querySelector('#df-a5f2c593-e6c4-4abf-bbb9-2e2034225093');\n",
              "          const dataTable =\n",
              "            await google.colab.kernel.invokeFunction('convertToInteractive',\n",
              "                                                     [key], {});\n",
              "          if (!dataTable) return;\n",
              "\n",
              "          const docLinkHtml = 'Like what you see? Visit the ' +\n",
              "            '<a target=\"_blank\" href=https://colab.research.google.com/notebooks/data_table.ipynb>data table notebook</a>'\n",
              "            + ' to learn more about interactive tables.';\n",
              "          element.innerHTML = '';\n",
              "          dataTable['output_type'] = 'display_data';\n",
              "          await google.colab.output.renderOutput(dataTable, element);\n",
              "          const docLink = document.createElement('div');\n",
              "          docLink.innerHTML = docLinkHtml;\n",
              "          element.appendChild(docLink);\n",
              "        }\n",
              "      </script>\n",
              "    </div>\n",
              "  </div>\n",
              "  "
            ]
          },
          "metadata": {},
          "execution_count": 2
        }
      ],
      "source": [
        "dataset=pd.read_csv('/content/drive/MyDrive/diabetes.csv')\n",
        "dataset.head()\n"
      ]
    },
    {
      "cell_type": "code",
      "execution_count": null,
      "metadata": {
        "colab": {
          "base_uri": "https://localhost:8080/"
        },
        "id": "TJKuL9xu6_PI",
        "outputId": "71c944d1-c691-4c4d-9ed2-3d8f119cbfd9"
      },
      "outputs": [
        {
          "output_type": "execute_result",
          "data": {
            "text/plain": [
              "(768, 9)"
            ]
          },
          "metadata": {},
          "execution_count": 3
        }
      ],
      "source": [
        "dataset.shape"
      ]
    },
    {
      "cell_type": "code",
      "execution_count": null,
      "metadata": {
        "colab": {
          "base_uri": "https://localhost:8080/"
        },
        "id": "QqcEr7Bj7Em2",
        "outputId": "6f444e26-b7fd-4120-cd4a-beebe359361a"
      },
      "outputs": [
        {
          "output_type": "execute_result",
          "data": {
            "text/plain": [
              "       Pregnancies     Glucose  BloodPressure  SkinThickness     Insulin  \\\n",
              "count   768.000000  768.000000     768.000000     768.000000  768.000000   \n",
              "mean      3.845052  120.894531      69.105469      20.536458   79.799479   \n",
              "std       3.369578   31.972618      19.355807      15.952218  115.244002   \n",
              "min       0.000000    0.000000       0.000000       0.000000    0.000000   \n",
              "25%       1.000000   99.000000      62.000000       0.000000    0.000000   \n",
              "50%       3.000000  117.000000      72.000000      23.000000   30.500000   \n",
              "75%       6.000000  140.250000      80.000000      32.000000  127.250000   \n",
              "max      17.000000  199.000000     122.000000      99.000000  846.000000   \n",
              "\n",
              "              BMI  DiabetesPedigreeFunction         Age     Outcome  \n",
              "count  768.000000                768.000000  768.000000  768.000000  \n",
              "mean    31.992578                  0.471876   33.240885    0.348958  \n",
              "std      7.884160                  0.331329   11.760232    0.476951  \n",
              "min      0.000000                  0.078000   21.000000    0.000000  \n",
              "25%     27.300000                  0.243750   24.000000    0.000000  \n",
              "50%     32.000000                  0.372500   29.000000    0.000000  \n",
              "75%     36.600000                  0.626250   41.000000    1.000000  \n",
              "max     67.100000                  2.420000   81.000000    1.000000  "
            ],
            "text/html": [
              "\n",
              "  <div id=\"df-e417715a-db3a-4c1a-af4f-14983a5ca7da\">\n",
              "    <div class=\"colab-df-container\">\n",
              "      <div>\n",
              "<style scoped>\n",
              "    .dataframe tbody tr th:only-of-type {\n",
              "        vertical-align: middle;\n",
              "    }\n",
              "\n",
              "    .dataframe tbody tr th {\n",
              "        vertical-align: top;\n",
              "    }\n",
              "\n",
              "    .dataframe thead th {\n",
              "        text-align: right;\n",
              "    }\n",
              "</style>\n",
              "<table border=\"1\" class=\"dataframe\">\n",
              "  <thead>\n",
              "    <tr style=\"text-align: right;\">\n",
              "      <th></th>\n",
              "      <th>Pregnancies</th>\n",
              "      <th>Glucose</th>\n",
              "      <th>BloodPressure</th>\n",
              "      <th>SkinThickness</th>\n",
              "      <th>Insulin</th>\n",
              "      <th>BMI</th>\n",
              "      <th>DiabetesPedigreeFunction</th>\n",
              "      <th>Age</th>\n",
              "      <th>Outcome</th>\n",
              "    </tr>\n",
              "  </thead>\n",
              "  <tbody>\n",
              "    <tr>\n",
              "      <th>count</th>\n",
              "      <td>768.000000</td>\n",
              "      <td>768.000000</td>\n",
              "      <td>768.000000</td>\n",
              "      <td>768.000000</td>\n",
              "      <td>768.000000</td>\n",
              "      <td>768.000000</td>\n",
              "      <td>768.000000</td>\n",
              "      <td>768.000000</td>\n",
              "      <td>768.000000</td>\n",
              "    </tr>\n",
              "    <tr>\n",
              "      <th>mean</th>\n",
              "      <td>3.845052</td>\n",
              "      <td>120.894531</td>\n",
              "      <td>69.105469</td>\n",
              "      <td>20.536458</td>\n",
              "      <td>79.799479</td>\n",
              "      <td>31.992578</td>\n",
              "      <td>0.471876</td>\n",
              "      <td>33.240885</td>\n",
              "      <td>0.348958</td>\n",
              "    </tr>\n",
              "    <tr>\n",
              "      <th>std</th>\n",
              "      <td>3.369578</td>\n",
              "      <td>31.972618</td>\n",
              "      <td>19.355807</td>\n",
              "      <td>15.952218</td>\n",
              "      <td>115.244002</td>\n",
              "      <td>7.884160</td>\n",
              "      <td>0.331329</td>\n",
              "      <td>11.760232</td>\n",
              "      <td>0.476951</td>\n",
              "    </tr>\n",
              "    <tr>\n",
              "      <th>min</th>\n",
              "      <td>0.000000</td>\n",
              "      <td>0.000000</td>\n",
              "      <td>0.000000</td>\n",
              "      <td>0.000000</td>\n",
              "      <td>0.000000</td>\n",
              "      <td>0.000000</td>\n",
              "      <td>0.078000</td>\n",
              "      <td>21.000000</td>\n",
              "      <td>0.000000</td>\n",
              "    </tr>\n",
              "    <tr>\n",
              "      <th>25%</th>\n",
              "      <td>1.000000</td>\n",
              "      <td>99.000000</td>\n",
              "      <td>62.000000</td>\n",
              "      <td>0.000000</td>\n",
              "      <td>0.000000</td>\n",
              "      <td>27.300000</td>\n",
              "      <td>0.243750</td>\n",
              "      <td>24.000000</td>\n",
              "      <td>0.000000</td>\n",
              "    </tr>\n",
              "    <tr>\n",
              "      <th>50%</th>\n",
              "      <td>3.000000</td>\n",
              "      <td>117.000000</td>\n",
              "      <td>72.000000</td>\n",
              "      <td>23.000000</td>\n",
              "      <td>30.500000</td>\n",
              "      <td>32.000000</td>\n",
              "      <td>0.372500</td>\n",
              "      <td>29.000000</td>\n",
              "      <td>0.000000</td>\n",
              "    </tr>\n",
              "    <tr>\n",
              "      <th>75%</th>\n",
              "      <td>6.000000</td>\n",
              "      <td>140.250000</td>\n",
              "      <td>80.000000</td>\n",
              "      <td>32.000000</td>\n",
              "      <td>127.250000</td>\n",
              "      <td>36.600000</td>\n",
              "      <td>0.626250</td>\n",
              "      <td>41.000000</td>\n",
              "      <td>1.000000</td>\n",
              "    </tr>\n",
              "    <tr>\n",
              "      <th>max</th>\n",
              "      <td>17.000000</td>\n",
              "      <td>199.000000</td>\n",
              "      <td>122.000000</td>\n",
              "      <td>99.000000</td>\n",
              "      <td>846.000000</td>\n",
              "      <td>67.100000</td>\n",
              "      <td>2.420000</td>\n",
              "      <td>81.000000</td>\n",
              "      <td>1.000000</td>\n",
              "    </tr>\n",
              "  </tbody>\n",
              "</table>\n",
              "</div>\n",
              "      <button class=\"colab-df-convert\" onclick=\"convertToInteractive('df-e417715a-db3a-4c1a-af4f-14983a5ca7da')\"\n",
              "              title=\"Convert this dataframe to an interactive table.\"\n",
              "              style=\"display:none;\">\n",
              "        \n",
              "  <svg xmlns=\"http://www.w3.org/2000/svg\" height=\"24px\"viewBox=\"0 0 24 24\"\n",
              "       width=\"24px\">\n",
              "    <path d=\"M0 0h24v24H0V0z\" fill=\"none\"/>\n",
              "    <path d=\"M18.56 5.44l.94 2.06.94-2.06 2.06-.94-2.06-.94-.94-2.06-.94 2.06-2.06.94zm-11 1L8.5 8.5l.94-2.06 2.06-.94-2.06-.94L8.5 2.5l-.94 2.06-2.06.94zm10 10l.94 2.06.94-2.06 2.06-.94-2.06-.94-.94-2.06-.94 2.06-2.06.94z\"/><path d=\"M17.41 7.96l-1.37-1.37c-.4-.4-.92-.59-1.43-.59-.52 0-1.04.2-1.43.59L10.3 9.45l-7.72 7.72c-.78.78-.78 2.05 0 2.83L4 21.41c.39.39.9.59 1.41.59.51 0 1.02-.2 1.41-.59l7.78-7.78 2.81-2.81c.8-.78.8-2.07 0-2.86zM5.41 20L4 18.59l7.72-7.72 1.47 1.35L5.41 20z\"/>\n",
              "  </svg>\n",
              "      </button>\n",
              "      \n",
              "  <style>\n",
              "    .colab-df-container {\n",
              "      display:flex;\n",
              "      flex-wrap:wrap;\n",
              "      gap: 12px;\n",
              "    }\n",
              "\n",
              "    .colab-df-convert {\n",
              "      background-color: #E8F0FE;\n",
              "      border: none;\n",
              "      border-radius: 50%;\n",
              "      cursor: pointer;\n",
              "      display: none;\n",
              "      fill: #1967D2;\n",
              "      height: 32px;\n",
              "      padding: 0 0 0 0;\n",
              "      width: 32px;\n",
              "    }\n",
              "\n",
              "    .colab-df-convert:hover {\n",
              "      background-color: #E2EBFA;\n",
              "      box-shadow: 0px 1px 2px rgba(60, 64, 67, 0.3), 0px 1px 3px 1px rgba(60, 64, 67, 0.15);\n",
              "      fill: #174EA6;\n",
              "    }\n",
              "\n",
              "    [theme=dark] .colab-df-convert {\n",
              "      background-color: #3B4455;\n",
              "      fill: #D2E3FC;\n",
              "    }\n",
              "\n",
              "    [theme=dark] .colab-df-convert:hover {\n",
              "      background-color: #434B5C;\n",
              "      box-shadow: 0px 1px 3px 1px rgba(0, 0, 0, 0.15);\n",
              "      filter: drop-shadow(0px 1px 2px rgba(0, 0, 0, 0.3));\n",
              "      fill: #FFFFFF;\n",
              "    }\n",
              "  </style>\n",
              "\n",
              "      <script>\n",
              "        const buttonEl =\n",
              "          document.querySelector('#df-e417715a-db3a-4c1a-af4f-14983a5ca7da button.colab-df-convert');\n",
              "        buttonEl.style.display =\n",
              "          google.colab.kernel.accessAllowed ? 'block' : 'none';\n",
              "\n",
              "        async function convertToInteractive(key) {\n",
              "          const element = document.querySelector('#df-e417715a-db3a-4c1a-af4f-14983a5ca7da');\n",
              "          const dataTable =\n",
              "            await google.colab.kernel.invokeFunction('convertToInteractive',\n",
              "                                                     [key], {});\n",
              "          if (!dataTable) return;\n",
              "\n",
              "          const docLinkHtml = 'Like what you see? Visit the ' +\n",
              "            '<a target=\"_blank\" href=https://colab.research.google.com/notebooks/data_table.ipynb>data table notebook</a>'\n",
              "            + ' to learn more about interactive tables.';\n",
              "          element.innerHTML = '';\n",
              "          dataTable['output_type'] = 'display_data';\n",
              "          await google.colab.output.renderOutput(dataTable, element);\n",
              "          const docLink = document.createElement('div');\n",
              "          docLink.innerHTML = docLinkHtml;\n",
              "          element.appendChild(docLink);\n",
              "        }\n",
              "      </script>\n",
              "    </div>\n",
              "  </div>\n",
              "  "
            ]
          },
          "metadata": {},
          "execution_count": 4
        }
      ],
      "source": [
        "dataset.describe()"
      ]
    },
    {
      "cell_type": "code",
      "execution_count": null,
      "metadata": {
        "colab": {
          "base_uri": "https://localhost:8080/"
        },
        "id": "AcHHzguG7G0D",
        "outputId": "9df01a2e-8a77-4ff9-d7d2-710fec9e9eeb"
      },
      "outputs": [
        {
          "output_type": "execute_result",
          "data": {
            "text/plain": [
              "<matplotlib.axes._subplots.AxesSubplot at 0x7fb8c9003e10>"
            ]
          },
          "metadata": {},
          "execution_count": 5
        },
        {
          "output_type": "display_data",
          "data": {
            "text/plain": [
              "<Figure size 432x288 with 1 Axes>"
            ],
            "image/png": "[encoded data removed]"
          },
          "metadata": {
            "needs_background": "light"
          }
        }
      ],
      "source": [
        "sns.countplot(x='Outcome',data=dataset)"
      ]
    },
    {
      "cell_type": "code",
      "execution_count": null,
      "metadata": {
        "colab": {
          "base_uri": "https://localhost:8080/"
        },
        "id": "FaMHufSl7Ejf",
        "outputId": "8673a4cc-75a3-4b32-aae6-7943af0afe23"
      },
      "outputs": [
        {
          "output_type": "execute_result",
          "data": {
            "text/plain": [
              "0    500\n",
              "1    268\n",
              "Name: Outcome, dtype: int64"
            ]
          },
          "metadata": {},
          "execution_count": 6
        }
      ],
      "source": [
        "dataset['Outcome'].value_counts()"
      ]
    },
    {
      "cell_type": "code",
      "execution_count": null,
      "metadata": {
        "colab": {
          "base_uri": "https://localhost:8080/"
        },
        "id": "ZxMu9qPI7Ebo",
        "outputId": "b0793de2-c81d-4b5e-9816-776c40232a80"
      },
      "outputs": [
        {
          "output_type": "execute_result",
          "data": {
            "text/plain": [
              "         Pregnancies     Glucose  BloodPressure  SkinThickness     Insulin  \\\n",
              "Outcome                                                                      \n",
              "0           3.298000  109.980000      68.184000      19.664000   68.792000   \n",
              "1           4.865672  141.257463      70.824627      22.164179  100.335821   \n",
              "\n",
              "               BMI  DiabetesPedigreeFunction        Age  \n",
              "Outcome                                                  \n",
              "0        30.304200                  0.429734  31.190000  \n",
              "1        35.142537                  0.550500  37.067164  "
            ],
            "text/html": [
              "\n",
              "  <div id=\"df-b6de7d9d-12e9-4c44-908f-4638a21f474e\">\n",
              "    <div class=\"colab-df-container\">\n",
              "      <div>\n",
              "<style scoped>\n",
              "    .dataframe tbody tr th:only-of-type {\n",
              "        vertical-align: middle;\n",
              "    }\n",
              "\n",
              "    .dataframe tbody tr th {\n",
              "        vertical-align: top;\n",
              "    }\n",
              "\n",
              "    .dataframe thead th {\n",
              "        text-align: right;\n",
              "    }\n",
              "</style>\n",
              "<table border=\"1\" class=\"dataframe\">\n",
              "  <thead>\n",
              "    <tr style=\"text-align: right;\">\n",
              "      <th></th>\n",
              "      <th>Pregnancies</th>\n",
              "      <th>Glucose</th>\n",
              "      <th>BloodPressure</th>\n",
              "      <th>SkinThickness</th>\n",
              "      <th>Insulin</th>\n",
              "      <th>BMI</th>\n",
              "      <th>DiabetesPedigreeFunction</th>\n",
              "      <th>Age</th>\n",
              "    </tr>\n",
              "    <tr>\n",
              "      <th>Outcome</th>\n",
              "      <th></th>\n",
              "      <th></th>\n",
              "      <th></th>\n",
              "      <th></th>\n",
              "      <th></th>\n",
              "      <th></th>\n",
              "      <th></th>\n",
              "      <th></th>\n",
              "    </tr>\n",
              "  </thead>\n",
              "  <tbody>\n",
              "    <tr>\n",
              "      <th>0</th>\n",
              "      <td>3.298000</td>\n",
              "      <td>109.980000</td>\n",
              "      <td>68.184000</td>\n",
              "      <td>19.664000</td>\n",
              "      <td>68.792000</td>\n",
              "      <td>30.304200</td>\n",
              "      <td>0.429734</td>\n",
              "      <td>31.190000</td>\n",
              "    </tr>\n",
              "    <tr>\n",
              "      <th>1</th>\n",
              "      <td>4.865672</td>\n",
              "      <td>141.257463</td>\n",
              "      <td>70.824627</td>\n",
              "      <td>22.164179</td>\n",
              "      <td>100.335821</td>\n",
              "      <td>35.142537</td>\n",
              "      <td>0.550500</td>\n",
              "      <td>37.067164</td>\n",
              "    </tr>\n",
              "  </tbody>\n",
              "</table>\n",
              "</div>\n",
              "      <button class=\"colab-df-convert\" onclick=\"convertToInteractive('df-b6de7d9d-12e9-4c44-908f-4638a21f474e')\"\n",
              "              title=\"Convert this dataframe to an interactive table.\"\n",
              "              style=\"display:none;\">\n",
              "        \n",
              "  <svg xmlns=\"http://www.w3.org/2000/svg\" height=\"24px\"viewBox=\"0 0 24 24\"\n",
              "       width=\"24px\">\n",
              "    <path d=\"M0 0h24v24H0V0z\" fill=\"none\"/>\n",
              "    <path d=\"M18.56 5.44l.94 2.06.94-2.06 2.06-.94-2.06-.94-.94-2.06-.94 2.06-2.06.94zm-11 1L8.5 8.5l.94-2.06 2.06-.94-2.06-.94L8.5 2.5l-.94 2.06-2.06.94zm10 10l.94 2.06.94-2.06 2.06-.94-2.06-.94-.94-2.06-.94 2.06-2.06.94z\"/><path d=\"M17.41 7.96l-1.37-1.37c-.4-.4-.92-.59-1.43-.59-.52 0-1.04.2-1.43.59L10.3 9.45l-7.72 7.72c-.78.78-.78 2.05 0 2.83L4 21.41c.39.39.9.59 1.41.59.51 0 1.02-.2 1.41-.59l7.78-7.78 2.81-2.81c.8-.78.8-2.07 0-2.86zM5.41 20L4 18.59l7.72-7.72 1.47 1.35L5.41 20z\"/>\n",
              "  </svg>\n",
              "      </button>\n",
              "      \n",
              "  <style>\n",
              "    .colab-df-container {\n",
              "      display:flex;\n",
              "      flex-wrap:wrap;\n",
              "      gap: 12px;\n",
              "    }\n",
              "\n",
              "    .colab-df-convert {\n",
              "      background-color: #E8F0FE;\n",
              "      border: none;\n",
              "      border-radius: 50%;\n",
              "      cursor: pointer;\n",
              "      display: none;\n",
              "      fill: #1967D2;\n",
              "      height: 32px;\n",
              "      padding: 0 0 0 0;\n",
              "      width: 32px;\n",
              "    }\n",
              "\n",
              "    .colab-df-convert:hover {\n",
              "      background-color: #E2EBFA;\n",
              "      box-shadow: 0px 1px 2px rgba(60, 64, 67, 0.3), 0px 1px 3px 1px rgba(60, 64, 67, 0.15);\n",
              "      fill: #174EA6;\n",
              "    }\n",
              "\n",
              "    [theme=dark] .colab-df-convert {\n",
              "      background-color: #3B4455;\n",
              "      fill: #D2E3FC;\n",
              "    }\n",
              "\n",
              "    [theme=dark] .colab-df-convert:hover {\n",
              "      background-color: #434B5C;\n",
              "      box-shadow: 0px 1px 3px 1px rgba(0, 0, 0, 0.15);\n",
              "      filter: drop-shadow(0px 1px 2px rgba(0, 0, 0, 0.3));\n",
              "      fill: #FFFFFF;\n",
              "    }\n",
              "  </style>\n",
              "\n",
              "      <script>\n",
              "        const buttonEl =\n",
              "          document.querySelector('#df-b6de7d9d-12e9-4c44-908f-4638a21f474e button.colab-df-convert');\n",
              "        buttonEl.style.display =\n",
              "          google.colab.kernel.accessAllowed ? 'block' : 'none';\n",
              "\n",
              "        async function convertToInteractive(key) {\n",
              "          const element = document.querySelector('#df-b6de7d9d-12e9-4c44-908f-4638a21f474e');\n",
              "          const dataTable =\n",
              "            await google.colab.kernel.invokeFunction('convertToInteractive',\n",
              "                                                     [key], {});\n",
              "          if (!dataTable) return;\n",
              "\n",
              "          const docLinkHtml = 'Like what you see? Visit the ' +\n",
              "            '<a target=\"_blank\" href=https://colab.research.google.com/notebooks/data_table.ipynb>data table notebook</a>'\n",
              "            + ' to learn more about interactive tables.';\n",
              "          element.innerHTML = '';\n",
              "          dataTable['output_type'] = 'display_data';\n",
              "          await google.colab.output.renderOutput(dataTable, element);\n",
              "          const docLink = document.createElement('div');\n",
              "          docLink.innerHTML = docLinkHtml;\n",
              "          element.appendChild(docLink);\n",
              "        }\n",
              "      </script>\n",
              "    </div>\n",
              "  </div>\n",
              "  "
            ]
          },
          "metadata": {},
          "execution_count": 7
        }
      ],
      "source": [
        "dataset.groupby('Outcome').mean()"
      ]
    },
    {
      "cell_type": "code",
      "execution_count": null,
      "metadata": {
        "colab": {
          "base_uri": "https://localhost:8080/",
          "height": 72
        },
        "id": "Li0u9ZaN7Wub",
        "outputId": "dff4b48e-86a7-4216-a003-1cfb8c94fbb5"
      },
      "outputs": [
        {
          "output_type": "execute_result",
          "data": {
            "text/plain": [
              "<matplotlib.axes._subplots.AxesSubplot at 0x7fb8c8f5f050>"
            ]
          },
          "metadata": {},
          "execution_count": 8
        },
        {
          "output_type": "display_data",
          "data": {
            "text/plain": [
              "<Figure size 432x288 with 2 Axes>"
            ],
            "image/png": "[encoded data removed]"
          },
          "metadata": {
            "needs_background": "light"
          }
        }
      ],
      "source": [
        "#Correlation matrix to show correlation between two variables, 0.x means x% similar\n",
        "corr_mat=dataset.corr()\n",
        "sns.heatmap(corr_mat, annot=True)"
      ]
    },
    {
      "cell_type": "code",
      "execution_count": null,
      "metadata": {
        "colab": {
          "base_uri": "https://localhost:8080/"
        },
        "id": "FaBXYq2K7bPg",
        "outputId": "0d0e648c-d616-4769-9021-f349c888506e"
      },
      "outputs": [
        {
          "output_type": "execute_result",
          "data": {
            "text/plain": [
              "Pregnancies                 0\n",
              "Glucose                     0\n",
              "BloodPressure               0\n",
              "SkinThickness               0\n",
              "Insulin                     0\n",
              "BMI                         0\n",
              "DiabetesPedigreeFunction    0\n",
              "Age                         0\n",
              "Outcome                     0\n",
              "dtype: int64"
            ]
          },
          "metadata": {},
          "execution_count": 9
        }
      ],
      "source": [
        "dataset.isna().sum()\n"
      ]
    },
    {
      "cell_type": "code",
      "execution_count": null,
      "metadata": {
        "id": "CS3zmQ5U7bMb"
      },
      "outputs": [],
      "source": [
        "x=dataset.iloc[:,:-1].values  #Independent matrix\n",
        "y=dataset.iloc[:,-1].values"
      ]
    },
    {
      "cell_type": "code",
      "execution_count": null,
      "metadata": {
        "colab": {
          "base_uri": "https://localhost:8080/"
        },
        "id": "f8pNKn3W7bJj",
        "outputId": "be70dba7-cd38-43ef-f773-e91f59fd911a"
      },
      "outputs": [
        {
          "output_type": "execute_result",
          "data": {
            "text/plain": [
              "(768, 8)"
            ]
          },
          "metadata": {},
          "execution_count": 11
        }
      ],
      "source": [
        "x.shape"
      ]
    },
    {
      "cell_type": "code",
      "execution_count": null,
      "metadata": {
        "colab": {
          "base_uri": "https://localhost:8080/"
        },
        "id": "OgNZKSU17bHF",
        "outputId": "63c3f061-49e0-4c48-a0ca-819f49df8bd0"
      },
      "outputs": [
        {
          "output_type": "execute_result",
          "data": {
            "text/plain": [
              "array([  6.   , 148.   ,  72.   ,  35.   ,   0.   ,  33.6  ,   0.627,\n",
              "        50.   ])"
            ]
          },
          "metadata": {},
          "execution_count": 12
        }
      ],
      "source": [
        "x[0]"
      ]
    },
    {
      "cell_type": "code",
      "execution_count": null,
      "metadata": {
        "colab": {
          "base_uri": "https://localhost:8080/"
        },
        "id": "D15ELtWy7rLg",
        "outputId": "c0e411f2-7130-497b-bf8d-304bd3289f90"
      },
      "outputs": [
        {
          "output_type": "execute_result",
          "data": {
            "text/plain": [
              "array([1, 0, 1, 0, 1, 0, 1, 0, 1, 1, 0, 1, 0, 1, 1, 1, 1, 1, 0, 1, 0, 0,\n",
              "       1, 1, 1, 1, 1, 0, 0, 0, 0, 1, 0, 0, 0, 0, 0, 1, 1, 1, 0, 0, 0, 1,\n",
              "       0, 1, 0, 0, 1, 0, 0, 0, 0, 1, 0, 0, 1, 0, 0, 0, 0, 1, 0, 0, 1, 0,\n",
              "       1, 0, 0, 0, 1, 0, 1, 0, 0, 0, 0, 0, 1, 0, 0, 0, 0, 0, 1, 0, 0, 0,\n",
              "       1, 0, 0, 0, 0, 1, 0, 0, 0, 0, 0, 1, 1, 0, 0, 0, 0, 0, 0, 0, 0, 1,\n",
              "       1, 1, 0, 0, 1, 1, 1, 0, 0, 0, 1, 0, 0, 0, 1, 1, 0, 0, 1, 1, 1, 1,\n",
              "       1, 0, 0, 0, 0, 0, 0, 0, 0, 0, 0, 1, 0, 0, 0, 0, 0, 0, 0, 0, 1, 0,\n",
              "       1, 1, 0, 0, 0, 1, 0, 0, 0, 0, 1, 1, 0, 0, 0, 0, 1, 1, 0, 0, 0, 1,\n",
              "       0, 1, 0, 1, 0, 0, 0, 0, 0, 1, 1, 1, 1, 1, 0, 0, 1, 1, 0, 1, 0, 1,\n",
              "       1, 1, 0, 0, 0, 0, 0, 0, 1, 1, 0, 1, 0, 0, 0, 1, 1, 1, 1, 0, 1, 1,\n",
              "       1, 1, 0, 0, 0, 0, 0, 1, 0, 0, 1, 1, 0, 0, 0, 1, 1, 1, 1, 0, 0, 0,\n",
              "       1, 1, 0, 1, 0, 0, 0, 0, 0, 0, 0, 0, 1, 1, 0, 0, 0, 1, 0, 1, 0, 0,\n",
              "       1, 0, 1, 0, 0, 1, 1, 0, 0, 0, 0, 0, 1, 0, 0, 0, 1, 0, 0, 1, 1, 0,\n",
              "       0, 1, 0, 0, 0, 1, 1, 1, 0, 0, 1, 0, 1, 0, 1, 1, 0, 1, 0, 0, 1, 0,\n",
              "       1, 1, 0, 0, 1, 0, 1, 0, 0, 1, 0, 1, 0, 1, 1, 1, 0, 0, 1, 0, 1, 0,\n",
              "       0, 0, 1, 0, 0, 0, 0, 1, 1, 1, 0, 0, 0, 0, 0, 0, 0, 0, 0, 1, 0, 0,\n",
              "       0, 0, 0, 1, 1, 1, 0, 1, 1, 0, 0, 1, 0, 0, 1, 0, 0, 1, 1, 0, 0, 0,\n",
              "       0, 1, 0, 0, 1, 0, 0, 0, 0, 0, 0, 0, 1, 1, 1, 0, 0, 1, 0, 0, 1, 0,\n",
              "       0, 1, 0, 1, 1, 0, 1, 0, 1, 0, 1, 0, 1, 1, 0, 0, 0, 0, 1, 1, 0, 1,\n",
              "       0, 1, 0, 0, 0, 0, 1, 1, 0, 1, 0, 1, 0, 0, 0, 0, 0, 1, 0, 0, 0, 0,\n",
              "       1, 0, 0, 1, 1, 1, 0, 0, 1, 0, 0, 1, 0, 0, 0, 1, 0, 0, 1, 0, 0, 0,\n",
              "       0, 0, 0, 0, 0, 0, 1, 0, 0, 0, 0, 0, 0, 0, 1, 0, 0, 0, 1, 0, 0, 0,\n",
              "       1, 1, 0, 0, 0, 0, 0, 0, 0, 1, 0, 0, 0, 0, 1, 0, 0, 0, 1, 0, 0, 0,\n",
              "       1, 0, 0, 0, 1, 0, 0, 0, 0, 1, 1, 0, 0, 0, 0, 0, 0, 1, 0, 0, 0, 0,\n",
              "       0, 0, 0, 0, 0, 0, 0, 1, 0, 0, 0, 1, 1, 1, 1, 0, 0, 1, 1, 0, 0, 0,\n",
              "       0, 0, 0, 0, 0, 0, 0, 0, 0, 0, 1, 1, 0, 0, 0, 0, 0, 0, 0, 1, 0, 0,\n",
              "       0, 0, 0, 0, 0, 1, 0, 1, 1, 0, 0, 0, 1, 0, 1, 0, 1, 0, 1, 0, 1, 0,\n",
              "       0, 1, 0, 0, 1, 0, 0, 0, 0, 1, 1, 0, 1, 0, 0, 0, 0, 1, 1, 0, 1, 0,\n",
              "       0, 0, 1, 1, 0, 0, 0, 0, 0, 0, 0, 0, 0, 0, 1, 0, 0, 0, 0, 1, 0, 0,\n",
              "       1, 0, 0, 0, 1, 0, 0, 0, 1, 1, 1, 0, 0, 0, 0, 0, 0, 1, 0, 0, 0, 1,\n",
              "       0, 1, 1, 1, 1, 0, 1, 1, 0, 0, 0, 0, 0, 0, 0, 1, 1, 0, 1, 0, 0, 1,\n",
              "       0, 1, 0, 0, 0, 0, 0, 1, 0, 1, 0, 1, 0, 1, 1, 0, 0, 0, 0, 1, 1, 0,\n",
              "       0, 0, 1, 0, 1, 1, 0, 0, 1, 0, 0, 1, 1, 0, 0, 1, 0, 0, 1, 0, 0, 0,\n",
              "       0, 0, 0, 0, 1, 1, 1, 0, 0, 0, 0, 0, 0, 1, 1, 0, 0, 1, 0, 0, 1, 0,\n",
              "       1, 1, 1, 0, 0, 1, 1, 1, 0, 1, 0, 1, 0, 1, 0, 0, 0, 0, 1, 0])"
            ]
          },
          "metadata": {},
          "execution_count": 13
        }
      ],
      "source": [
        "y"
      ]
    },
    {
      "cell_type": "code",
      "execution_count": null,
      "metadata": {
        "colab": {
          "base_uri": "https://localhost:8080/"
        },
        "id": "UKrBBExb7t0K",
        "outputId": "a0ec8519-fdc1-47d1-c9ba-b1dd54d6b194"
      },
      "outputs": [
        {
          "output_type": "stream",
          "name": "stderr",
          "text": [
            "/usr/local/lib/python3.7/dist-packages/seaborn/distributions.py:2619: FutureWarning: `distplot` is a deprecated function and will be removed in a future version. Please adapt your code to use either `displot` (a figure-level function with similar flexibility) or `histplot` (an axes-level function for histograms).\n",
            "  warnings.warn(msg, FutureWarning)\n"
          ]
        },
        {
          "output_type": "execute_result",
          "data": {
            "text/plain": [
              "Text(0.5, 1.0, 'Glucose')"
            ]
          },
          "metadata": {},
          "execution_count": 14
        },
        {
          "output_type": "display_data",
          "data": {
            "text/plain": [
              "<Figure size 1152x432 with 1 Axes>"
            ],
            "image/png": "[encoded data removed]"
          },
          "metadata": {
            "needs_background": "light"
          }
        }
      ],
      "source": [
        "fig = plt.figure(figsize =(16,6))\n",
        "\n",
        "sns.distplot(dataset[\"Glucose\"][dataset[\"Outcome\"] == 1])\n",
        "plt.xticks([i for i in range(0,201,15)],rotation = 45)\n",
        "plt.ylabel(\"Glucose count\")\n",
        "plt.title(\"Glucose\",fontsize = 20)"
      ]
    },
    {
      "cell_type": "code",
      "execution_count": null,
      "metadata": {
        "colab": {
          "base_uri": "https://localhost:8080/"
        },
        "id": "ooncDWrO7wWh",
        "outputId": "5b4e597d-5f10-4a71-d441-613d3896de1b"
      },
      "outputs": [
        {
          "output_type": "stream",
          "name": "stderr",
          "text": [
            "/usr/local/lib/python3.7/dist-packages/seaborn/distributions.py:2619: FutureWarning: `distplot` is a deprecated function and will be removed in a future version. Please adapt your code to use either `displot` (a figure-level function with similar flexibility) or `histplot` (an axes-level function for histograms).\n",
            "  warnings.warn(msg, FutureWarning)\n"
          ]
        },
        {
          "output_type": "execute_result",
          "data": {
            "text/plain": [
              "Text(0.5, 1.0, 'Insulin')"
            ]
          },
          "metadata": {},
          "execution_count": 15
        },
        {
          "output_type": "display_data",
          "data": {
            "text/plain": [
              "<Figure size 1152x432 with 1 Axes>"
            ],
            "image/png": "[encoded data removed]"
          },
          "metadata": {
            "needs_background": "light"
          }
        }
      ],
      "source": [
        "fig = plt.figure(figsize = (16,6))\n",
        "\n",
        "sns.distplot(dataset[\"Insulin\"][dataset[\"Outcome\"]==1])\n",
        "plt.xticks()\n",
        "plt.title(\"Insulin\",fontsize = 20)"
      ]
    },
    {
      "cell_type": "code",
      "execution_count": null,
      "metadata": {
        "colab": {
          "base_uri": "https://localhost:8080/",
          "height": 106
        },
        "id": "txxOIG8R73Gp",
        "outputId": "04248fa6-136f-42a9-9dcd-7965ed636172"
      },
      "outputs": [
        {
          "output_type": "stream",
          "name": "stderr",
          "text": [
            "/usr/local/lib/python3.7/dist-packages/seaborn/distributions.py:2619: FutureWarning: `distplot` is a deprecated function and will be removed in a future version. Please adapt your code to use either `displot` (a figure-level function with similar flexibility) or `histplot` (an axes-level function for histograms).\n",
            "  warnings.warn(msg, FutureWarning)\n"
          ]
        },
        {
          "output_type": "execute_result",
          "data": {
            "text/plain": [
              "Text(0.5, 1.0, 'BMI')"
            ]
          },
          "metadata": {},
          "execution_count": 16
        },
        {
          "output_type": "display_data",
          "data": {
            "text/plain": [
              "<Figure size 1152x432 with 1 Axes>"
            ],
            "image/png": "[encoded data removed]"
          },
          "metadata": {
            "needs_background": "light"
          }
        }
      ],
      "source": [
        "fig = plt.figure(figsize =(16,6))\n",
        "\n",
        "sns.distplot(dataset[\"BMI\"][dataset[\"Outcome\"]==1])\n",
        "plt.xticks()\n",
        "plt.title(\"BMI\",fontsize = 20)"
      ]
    },
    {
      "cell_type": "code",
      "execution_count": null,
      "metadata": {
        "colab": {
          "base_uri": "https://localhost:8080/"
        },
        "id": "By7pLcxE79NC",
        "outputId": "a09ac61e-0fde-4ed2-c2f3-b7942043d9aa"
      },
      "outputs": [
        {
          "output_type": "stream",
          "name": "stderr",
          "text": [
            "/usr/local/lib/python3.7/dist-packages/seaborn/distributions.py:2619: FutureWarning: `distplot` is a deprecated function and will be removed in a future version. Please adapt your code to use either `displot` (a figure-level function with similar flexibility) or `histplot` (an axes-level function for histograms).\n",
            "  warnings.warn(msg, FutureWarning)\n"
          ]
        },
        {
          "output_type": "execute_result",
          "data": {
            "text/plain": [
              "Text(0.5, 1.0, 'diabetespedigreefunction')"
            ]
          },
          "metadata": {},
          "execution_count": 17
        },
        {
          "output_type": "display_data",
          "data": {
            "text/plain": [
              "<Figure size 1152x360 with 1 Axes>"
            ],
            "image/png": "[encoded data removed]"
          },
          "metadata": {
            "needs_background": "light"
          }
        }
      ],
      "source": [
        "fig = plt.figure(figsize = (16,5))\n",
        "sns.distplot(dataset[\"DiabetesPedigreeFunction\"][dataset[\"Outcome\"] == 1])\n",
        "plt.xticks([i*0.15 for i in range(1,12)])\n",
        "plt.title(\"diabetespedigreefunction\")"
      ]
    },
    {
      "cell_type": "code",
      "execution_count": null,
      "metadata": {
        "colab": {
          "base_uri": "https://localhost:8080/"
        },
        "id": "unzBM6R88BgH",
        "outputId": "bf32b969-d0ea-4d3e-8f9d-645e9373db3c"
      },
      "outputs": [
        {
          "output_type": "stream",
          "name": "stderr",
          "text": [
            "/usr/local/lib/python3.7/dist-packages/seaborn/distributions.py:2619: FutureWarning: `distplot` is a deprecated function and will be removed in a future version. Please adapt your code to use either `displot` (a figure-level function with similar flexibility) or `histplot` (an axes-level function for histograms).\n",
            "  warnings.warn(msg, FutureWarning)\n"
          ]
        },
        {
          "output_type": "execute_result",
          "data": {
            "text/plain": [
              "Text(0.5, 1.0, 'Age')"
            ]
          },
          "metadata": {},
          "execution_count": 18
        },
        {
          "output_type": "display_data",
          "data": {
            "text/plain": [
              "<Figure size 1152x432 with 1 Axes>"
            ],
            "image/png": "[encoded data removed]"
          },
          "metadata": {
            "needs_background": "light"
          }
        }
      ],
      "source": [
        "fig = plt.figure(figsize = (16,6))\n",
        "\n",
        "sns.distplot(dataset[\"Age\"][dataset[\"Outcome\"] == 1])\n",
        "plt.xticks([i*0.15 for i in range(1,12)])\n",
        "plt.title(\"Age\")"
      ]
    },
    {
      "cell_type": "code",
      "source": [
        ""
      ],
      "metadata": {
        "id": "zfHg60PNbo17"
      },
      "execution_count": null,
      "outputs": []
    },
    {
      "cell_type": "code",
      "execution_count": null,
      "metadata": {
        "id": "NA7oHnbg8GLG"
      },
      "outputs": [],
      "source": [
        "x = dataset.drop([\"Pregnancies\",\"BloodPressure\",\"SkinThickness\",\"Outcome\"],axis = 1)\n",
        "y = dataset.iloc[:,-1]"
      ]
    },
    {
      "cell_type": "code",
      "execution_count": null,
      "metadata": {
        "id": "KlbTdWrA8JIw"
      },
      "outputs": [],
      "source": [
        "from sklearn.model_selection import train_test_split\n",
        "x_train, x_test, y_train, y_test = train_test_split(x, y, test_size=0.2, random_state=0)"
      ]
    },
    {
      "cell_type": "code",
      "execution_count": null,
      "metadata": {
        "colab": {
          "base_uri": "https://localhost:8080/"
        },
        "id": "5h6wMNer8NYH",
        "outputId": "047c996c-54ef-4541-b433-517f2ae06e2b"
      },
      "outputs": [
        {
          "output_type": "execute_result",
          "data": {
            "text/plain": [
              "(768, 5)"
            ]
          },
          "metadata": {},
          "execution_count": 21
        }
      ],
      "source": [
        "x.shape"
      ]
    },
    {
      "cell_type": "code",
      "execution_count": null,
      "metadata": {
        "colab": {
          "base_uri": "https://localhost:8080/"
        },
        "id": "kHS20yUh8MBL",
        "outputId": "d8a97f1a-296a-4704-858c-63923c0b487d"
      },
      "outputs": [
        {
          "output_type": "execute_result",
          "data": {
            "text/plain": [
              "(614, 5)"
            ]
          },
          "metadata": {},
          "execution_count": 22
        }
      ],
      "source": [
        "x_train.shape"
      ]
    },
    {
      "cell_type": "code",
      "execution_count": null,
      "metadata": {
        "colab": {
          "base_uri": "https://localhost:8080/"
        },
        "id": "JclgaDLU8QMT",
        "outputId": "fe1d4f79-5748-4f08-d4fa-d4d47d5b88fd"
      },
      "outputs": [
        {
          "output_type": "execute_result",
          "data": {
            "text/plain": [
              "(154, 5)"
            ]
          },
          "metadata": {},
          "execution_count": 23
        }
      ],
      "source": [
        "x_test.shape"
      ]
    },
    {
      "cell_type": "code",
      "execution_count": null,
      "metadata": {
        "id": "Jxvx76UJJZhQ",
        "colab": {
          "base_uri": "https://localhost:8080/"
        },
        "outputId": "86bd7714-579a-489c-aac1-7ac54050ecdd"
      },
      "outputs": [
        {
          "output_type": "stream",
          "name": "stdout",
          "text": [
            "[[ 2.45735903e+00 -6.99656737e-01  1.35224513e+00  2.78594417e+00\n",
            "  -9.65691892e-01]\n",
            " [-4.37196330e-01  1.52162022e-01  1.76195335e-01 -1.87638099e-01\n",
            "  -8.82402831e-01]\n",
            " [-1.41253563e+00 -6.99656737e-01  2.26778122e-01 -2.26685139e-01\n",
            "  -7.15824710e-01]\n",
            " [ 1.41909460e+00  7.91026091e-01 -8.10169011e-01  3.62024077e-01\n",
            "   1.44969086e+00]\n",
            " [-3.11346097e-01 -6.99656737e-01 -9.61917372e-01  5.81288224e-01\n",
            "  -2.16090348e-01]\n",
            " [-1.25522284e+00 -3.58929234e-01 -7.09003437e-01 -5.51075932e-01\n",
            "  -7.99113771e-01]\n",
            " [ 9.78618790e-01  7.56953341e-01  2.52069515e-01  1.28113132e+00\n",
            "  -4.95122265e-02]\n",
            " [ 1.73372019e+00  6.29180527e-01  1.38258245e-01  2.06507574e+00\n",
            "   1.53297992e+00]\n",
            " [ 1.92054834e-01  1.64284485e+00 -5.69900773e-01  3.40468957e+00\n",
            "  -7.15824710e-01]\n",
            " [-5.63046563e-01  9.18798905e-01  6.94668901e-01 -4.27927575e-01\n",
            "   1.78284710e+00]\n",
            " [ 1.16739414e+00  1.38729922e+00 -7.67185999e-02  1.15497935e+00\n",
            "  -4.65957529e-01]\n",
            " [ 2.07980833e+00  1.06360809e+00  1.44076501e+00  1.70464153e+00\n",
            "   1.61626898e+00]\n",
            " [-2.16958423e-01 -6.99656737e-01 -9.23980282e-01  8.33592174e-01\n",
            "   1.94942523e+00]\n",
            " [-1.22376029e+00  2.79934836e-01 -4.68735199e-01  3.70204780e+00\n",
            "  -7.15824710e-01]\n",
            " [-1.75862378e+00 -6.99656737e-01 -2.61358130e-02  4.01071117e-01\n",
            "   7.00089318e-01]\n",
            " [-4.05733772e-01 -6.99656737e-01 -6.20483560e-01  9.62747768e-01\n",
            "  -1.32801287e-01]\n",
            " [ 1.82810786e+00  4.07707650e-01  6.23840642e-02  7.58501713e-01\n",
            "   2.00354955e-01]\n",
            " [-1.50692331e+00 -6.99656737e-01 -1.16424852e+00 -6.56202578e-01\n",
            "  -1.04898095e+00]\n",
            " [ 3.49367625e-01 -6.99656737e-01 -5.31963683e-01 -1.42583822e-01\n",
            "   2.44915959e+00]\n",
            " [-6.88896796e-01  7.35283294e-03  2.26778122e-01  9.77056536e-02\n",
            "  -2.99379408e-01]\n",
            " [ 7.26918324e-01 -6.99656737e-01  7.95834475e-01  2.62904668e-01\n",
            "   2.83644015e-01]\n",
            " [-9.11081898e-02 -6.99656737e-01  1.35224513e+00  6.80407633e-01\n",
            "  -1.04898095e+00]\n",
            " [-1.06644749e+00 -6.99656737e-01 -4.18152412e-01  9.20697109e-01\n",
            "  -7.15824710e-01]\n",
            " [-1.88447401e+00 -6.99656737e-01  2.77360909e-01 -6.71220670e-01\n",
            "   1.03324556e+00]\n",
            " [-7.51821912e-01  4.92889526e-01 -1.13895713e+00  6.16622322e-02\n",
            "  -9.65691892e-01]\n",
            " [ 9.76671596e-02 -6.99656737e-01  4.54400663e-01  1.42759930e-01\n",
            "  -1.04898095e+00]\n",
            " [-5.31584005e-01 -6.99656737e-01 -1.74595057e+00  3.47005985e-01\n",
            "  -5.49246589e-01]\n",
            " [ 1.01008135e+00  4.92889526e-01  1.06139411e+00  2.12514811e+00\n",
            "   4.50222136e-01]\n",
            " [-2.79883539e-01 -6.99656737e-01 -9.11334585e-01 -4.78989089e-01\n",
            "  -7.99113771e-01]\n",
            " [-3.42808656e-01 -6.99656737e-01 -7.84877618e-01 -5.24043366e-01\n",
            "  -2.99379408e-01]\n",
            " [ 4.75217858e-01  4.50298588e-01 -7.84877618e-01  5.42241184e-01\n",
            "   1.44969086e+00]\n",
            " [-5.94509121e-01 -3.52381050e-02  1.06139411e+00  8.86947983e-02\n",
            "  -1.04898095e+00]\n",
            " [-5.94509121e-01  1.94752960e-01 -3.67569625e-01  6.86414870e-01\n",
            "  -5.49246589e-01]\n",
            " [ 3.47420431e-02  6.46216902e-01  5.04983450e-01  1.04985270e+00\n",
            "  -4.65957529e-01]\n",
            " [-5.96456315e-02 -2.73747358e-01 -1.25276840e+00 -7.85358171e-01\n",
            "  -7.99113771e-01]\n",
            " [ 1.48201972e+00 -6.99656737e-01  8.76754577e-02 -9.95611463e-01\n",
            "   6.16800257e-01]\n",
            " [ 4.75217858e-01  4.07707650e-01 -4.94026592e-01 -6.20159156e-01\n",
            "   7.00089318e-01]\n",
            " [-1.22570748e-01 -9.48654182e-02 -8.86043192e-01 -4.60967378e-01\n",
            "  -1.04898095e+00]\n",
            " [-5.96456315e-02 -1.63010919e-01  4.16463573e-01 -5.60086787e-01\n",
            "  -7.15824710e-01]\n",
            " [ 1.85957042e+00 -1.03383606e-01  2.26778122e-01 -5.87119353e-01\n",
            "  -6.32535650e-01]\n",
            " [-5.96456315e-02  8.40165213e-02  3.40589393e-01  7.76523424e-01\n",
            "  -8.82402831e-01]\n",
            " [-9.72059820e-01 -6.99656737e-01  1.32695374e+00  2.77922761e-01\n",
            "  -1.04898095e+00]\n",
            " [-6.88896796e-01 -2.39674607e-01 -6.71066347e-01  9.16984167e-02\n",
            "  -1.32801287e-01]\n",
            " [ 2.26858368e+00 -6.99656737e-01  3.40589393e-01 -6.77227907e-01\n",
            "  -7.15824710e-01]\n",
            " [ 2.39443391e+00  3.92571913e+00 -2.15821264e-01 -9.26528238e-01\n",
            "   1.61626898e+00]\n",
            " [-5.94509121e-01 -6.99656737e-01 -4.07275877e+00  3.16969801e-01\n",
            "  -1.04898095e+00]\n",
            " [-4.05733772e-01 -2.22638232e-01 -8.86043192e-01 -1.01663679e+00\n",
            "  -1.04898095e+00]\n",
            " [ 2.54979951e-01  2.79934836e-01 -7.34294831e-01 -7.43307513e-01\n",
            "  -4.65957529e-01]\n",
            " [-3.74271214e-01  1.43643834e-01  3.27943696e-01  1.31717474e+00\n",
            "  -6.32535650e-01]\n",
            " [ 1.29129718e-01 -6.99656737e-01  1.18012773e-02  2.08839536e-01\n",
            "  -5.49246589e-01]\n",
            " [ 3.80830184e-01 -6.99656737e-01 -6.58420650e-01 -6.65213433e-01\n",
            "   2.00354955e-01]\n",
            " [-4.05733772e-01 -1.63010919e-01  3.70926707e-02 -4.45949286e-01\n",
            "  -9.65691892e-01]\n",
            " [ 9.47156231e-01  1.60877210e+00  1.21314247e+00  8.27584937e-01\n",
            "   3.66933076e-01]\n",
            " [ 5.06680416e-01 -6.99656737e-01 -2.61358130e-02 -2.26685139e-01\n",
            "   4.50222136e-01]\n",
            " [-9.40597262e-01  1.08916266e+00  9.72874230e-01 -2.56721324e-01\n",
            "  -7.15824710e-01]\n",
            " [-3.80369006e+00 -6.99656737e-01 -9.49271675e-01 -9.80593370e-01\n",
            "  -9.65691892e-01]\n",
            " [-1.12937261e+00 -6.99656737e-01 -7.09003437e-01 -3.46829877e-01\n",
            "  -2.16090348e-01]\n",
            " [-1.85495864e-01 -6.99656737e-01  2.61681481e+00 -7.73343697e-01\n",
            "  -4.65957529e-01]\n",
            " [ 4.12292742e-01 -6.99656737e-01 -4.18152412e-01  2.26861247e-01\n",
            "  -8.82402831e-01]\n",
            " [-1.85495864e-01 -6.99656737e-01 -4.07275877e+00 -6.17155538e-01\n",
            "  -2.99379408e-01]\n",
            " [ 1.45055716e+00  1.26804460e+00  6.82023205e-01 -9.05502909e-01\n",
            "   7.83378378e-01]\n",
            " [ 8.21305999e-01  1.79617223e+00  3.40589393e-01 -2.44706850e-01\n",
            "  -2.99379408e-01]\n",
            " [ 1.29129718e-01 -6.99656737e-01 -9.49271675e-01 -7.82354553e-01\n",
            "  -1.04898095e+00]\n",
            " [ 5.38142975e-01 -6.99656737e-01  5.17629147e-01  1.40127606e+00\n",
            "  -7.15824710e-01]\n",
            " [ 1.92249554e+00 -6.99656737e-01 -2.15821264e-01 -3.64851588e-01\n",
            "  -3.82668468e-01]\n",
            " [ 2.39443391e+00 -6.99656737e-01 -7.97523314e-01  2.17620962e+00\n",
            "   4.50222136e-01]\n",
            " [ 1.38763205e+00 -6.99656737e-01 -2.28466961e-01 -4.94007181e-01\n",
            "   1.28311274e+00]\n",
            " [ 3.47420431e-02 -6.99656737e-01 -1.16424852e+00 -6.38180867e-01\n",
            "   5.33511197e-01]\n",
            " [-4.68658888e-01 -6.99656737e-01 -1.27301387e-01 -2.59724942e-01\n",
            "   7.00089318e-01]\n",
            " [-1.53838587e+00 -6.99656737e-01 -7.67185999e-02 -5.60086787e-01\n",
            "   3.66933076e-01]\n",
            " [-4.05733772e-01 -6.99656737e-01 -1.77884174e-01 -9.26528238e-01\n",
            "  -1.04898095e+00]\n",
            " [-5.96456315e-02 -6.99656737e-01 -8.86043192e-01 -7.73343697e-01\n",
            "   2.83644015e-01]\n",
            " [-1.09791005e+00 -6.99656737e-01  4.54400663e-01 -6.86238762e-01\n",
            "  -7.15824710e-01]\n",
            " [ 1.95395809e+00 -6.99656737e-01  1.08668550e+00  2.98718660e+00\n",
            "   9.49956499e-01]\n",
            " [ 1.57640740e+00 -6.99656737e-01  1.44076501e+00  3.76332846e-02\n",
            "  -6.32535650e-01]\n",
            " [ 5.06680416e-01 -6.99656737e-01 -1.27301387e-01 -6.44188104e-01\n",
            "  -2.99379408e-01]\n",
            " [-1.66423610e+00 -2.82265545e-01  4.16463573e-01 -5.45068695e-01\n",
            "   1.11653462e+00]\n",
            " [ 1.04154391e+00  9.44353468e-01 -3.67569625e-01  1.11893593e+00\n",
            "   4.50222136e-01]\n",
            " [-1.19229773e+00 -6.99656737e-01 -3.67569625e-01 -4.48952904e-01\n",
            "   3.37768340e-02]\n",
            " [-7.51821912e-01 -6.99656737e-01  7.45251688e-01 -7.46311131e-01\n",
            "  -2.99379408e-01]\n",
            " [-6.57434238e-01 -6.99656737e-01  8.21125869e-01 -8.30412448e-01\n",
            "   7.00089318e-01]\n",
            " [ 4.75217858e-01  1.03805353e+00  6.56731811e-01 -2.02656191e-01\n",
            "  -7.99113771e-01]\n",
            " [-3.42808656e-01  3.65116712e-01  2.44469740e-02  6.95425725e-01\n",
            "  -5.49246589e-01]\n",
            " [-7.51821912e-01 -1.16535465e-03 -1.77124196e+00 -5.03018037e-01\n",
            "  -1.04898095e+00]\n",
            " [-8.14747029e-01 -6.99656737e-01  4.03817876e-01 -5.48072313e-01\n",
            "  -4.65957529e-01]\n",
            " [-9.09134703e-01 -6.99656737e-01  1.26372525e+00 -6.89242381e-01\n",
            "  -3.82668468e-01]\n",
            " [ 5.69605533e-01 -6.99656737e-01 -8.35460405e-01 -1.93645336e-01\n",
            "  -9.65691892e-01]\n",
            " [-5.63046563e-01  7.35283294e-03  1.40282792e+00 -8.51437777e-01\n",
            "  -4.95122265e-02]\n",
            " [ 1.89103298e+00  9.35835281e-01  4.67046360e-01  3.59020459e-01\n",
            "   1.44969086e+00]\n",
            " [-8.46209587e-01  2.79934836e-01  1.42811931e+00 -3.58844351e-01\n",
            "  -1.04898095e+00]\n",
            " [ 9.76671596e-02 -6.99656737e-01 -5.57255076e-01 -1.10073811e+00\n",
            "  -2.99379408e-01]\n",
            " [ 2.54979951e-01 -6.99656737e-01 -5.31963683e-01 -5.48072313e-01\n",
            "  -5.49246589e-01]\n",
            " [-2.48420981e-01  2.43892081e-02 -3.42278232e-01  4.79165197e-01\n",
            "  -7.15824710e-01]\n",
            " [-5.63046563e-01 -1.16535465e-03 -1.61949360e+00  7.36767060e-02\n",
            "  -9.65691892e-01]\n",
            " [ 1.35616949e+00 -1.28938169e-01  7.50297610e-02 -3.76866062e-01\n",
            "   1.36640180e+00]\n",
            " [-3.11346097e-01 -3.24856483e-01 -3.42278232e-01 -1.09544020e-01\n",
            "  -9.65691892e-01]\n",
            " [-7.51821912e-01  7.54983337e-02  1.09933120e+00  1.21505172e+00\n",
            "  -1.32801287e-01]\n",
            " [ 9.78618790e-01  1.61729029e+00  1.17520538e+00 -5.90122972e-01\n",
            "  -5.49246589e-01]\n",
            " [-3.11346097e-01  1.06360809e+00  6.18794721e-01  2.77392969e+00\n",
            "   1.86613616e+00]\n",
            " [-1.85495864e-01 -6.99656737e-01 -4.18152412e-01 -2.71739416e-01\n",
            "   1.03324556e+00]\n",
            " [-2.16958423e-01  1.72802673e+00  1.51663919e+00 -8.99495672e-01\n",
            "  -5.49246589e-01]\n",
            " [-6.88896796e-01  1.01052896e-01 -9.61917372e-01  5.12205000e-01\n",
            "  -1.04898095e+00]\n",
            " [-3.42808656e-01 -6.99656737e-01  6.82023205e-01 -8.27408829e-01\n",
            "  -2.99379408e-01]\n",
            " [-8.14747029e-01 -3.75965609e-01 -1.59420221e+00 -3.97891391e-01\n",
            "  -7.15824710e-01]\n",
            " [ 2.23517392e-01 -6.99656737e-01  9.85519926e-01  1.90588396e+00\n",
            "  -7.99113771e-01]\n",
            " [-4.05733772e-01 -6.99656737e-01 -2.15821264e-01  1.46735567e+00\n",
            "  -4.95122265e-02]\n",
            " [ 1.60592276e-01  3.22525774e-01 -6.07837863e-01  1.45763549e-01\n",
            "  -1.04898095e+00]\n",
            " [ 5.06680416e-01 -6.99656737e-01  1.25612548e-01 -8.90484817e-01\n",
            "  -9.65691892e-01]\n",
            " [-6.88896796e-01 -1.54492731e-01 -1.63213930e+00 -5.48072313e-01\n",
            "  -2.99379408e-01]\n",
            " [ 1.95395809e+00 -6.99656737e-01 -1.12631143e+00  6.17331646e-01\n",
            "  -1.32801287e-01]\n",
            " [-1.03498494e+00 -5.63365736e-01 -4.81380896e-01  8.99671780e-01\n",
            "  -9.65691892e-01]\n",
            " [-2.79883539e-01  7.91026091e-01  2.52069515e-01 -6.20159156e-01\n",
            "   2.00354955e-01]\n",
            " [ 6.95455766e-01 -6.99656737e-01  3.40589393e-01 -1.01363317e+00\n",
            "   6.16800257e-01]\n",
            " [ 2.23517392e-01 -2.05601857e-01 -2.61358130e-02  2.56668002e+00\n",
            "  -4.95122265e-02]\n",
            " [ 1.63933251e+00  3.33796418e+00  4.41754967e-01 -6.26166393e-01\n",
            "  -9.65691892e-01]\n",
            " [ 1.26178181e+00 -6.99656737e-01 -2.28466961e-01 -9.05502909e-01\n",
            "   1.11653462e+00]\n",
            " [-4.05733772e-01  1.66839941e+00 -8.73397495e-01  1.24508790e+00\n",
            "  -9.65691892e-01]\n",
            " [ 2.26858368e+00  2.49466361e+00 -7.97523314e-01  5.66270132e-01\n",
            "  -7.99113771e-01]\n",
            " [-3.11346097e-01 -6.99656737e-01 -2.66404051e-01 -9.71582515e-01\n",
            "  -8.82402831e-01]\n",
            " [-2.81830733e-02  5.78071402e-01  1.27637095e+00  9.56740531e-01\n",
            "   1.19982368e+00]\n",
            " [-2.79883539e-01 -6.99656737e-01  9.09645746e-01 -6.92245999e-01\n",
            "   3.66933076e-01]\n",
            " [-5.63046563e-01 -6.99656737e-01  8.84354353e-01 -4.84996326e-01\n",
            "   2.61573771e+00]\n",
            " [-1.85495864e-01  4.92889526e-01  7.45251688e-01 -9.50557186e-01\n",
            "  -4.65957529e-01]\n",
            " [ 3.27948490e-03 -6.99656737e-01 -7.21649134e-01 -6.23162775e-01\n",
            "   2.36587053e+00]\n",
            " [ 6.95455766e-01 -1.80047294e-01 -7.59586224e-01 -6.32173630e-01\n",
            "  -1.04898095e+00]\n",
            " [-9.72059820e-01 -6.99656737e-01 -1.10102004e+00 -8.27408829e-01\n",
            "  -7.15824710e-01]\n",
            " [ 1.92054834e-01  6.20662340e-01  2.90006606e-01  3.95063880e-01\n",
            "  -4.65957529e-01]\n",
            " [-1.54033306e-01 -6.99656737e-01  1.18012773e-02  5.81288224e-01\n",
            "   1.17065894e-01]\n",
            " [ 4.43755300e-01 -6.99656737e-01 -6.96357740e-01  6.62385922e-01\n",
            "   2.36587053e+00]\n",
            " [ 1.70225763e+00 -6.99656737e-01 -1.17689422e+00 -4.21920338e-01\n",
            "  -9.65691892e-01]\n",
            " [ 5.69605533e-01  4.92889526e-01 -4.56089502e-01 -1.66612770e-01\n",
            "  -6.32535650e-01]\n",
            " [-5.00121447e-01 -6.99656737e-01 -4.07275877e+00 -4.84996326e-01\n",
            "  -7.99113771e-01]\n",
            " [-1.25522284e+00 -6.99656737e-01 -5.69900773e-01 -5.30050603e-01\n",
            "  -7.15824710e-01]\n",
            " [ 1.60786995e+00  4.23237388e+00  1.28901665e+00  7.07440199e-01\n",
            "  -4.65957529e-01]\n",
            " [-8.46209587e-01 -2.67199174e-02  1.38258245e-01  8.15570463e-01\n",
            "   6.16800257e-01]\n",
            " [-5.94509121e-01 -6.99656737e-01  8.76754577e-02  5.96306317e-01\n",
            "   1.03324556e+00]\n",
            " [-4.37196330e-01 -6.99656737e-01 -4.94026592e-01 -8.57445014e-01\n",
            "  -3.82668468e-01]\n",
            " [-5.63046563e-01 -6.99656737e-01  8.71708656e-01 -3.67855206e-01\n",
            "  -2.16090348e-01]\n",
            " [ 6.32530649e-01 -6.99656737e-01 -2.79049748e-01  8.84653688e-01\n",
            "  -5.49246589e-01]\n",
            " [-2.81830733e-02 -6.99656737e-01 -6.83712044e-01 -3.44535582e-02\n",
            "  -5.49246589e-01]\n",
            " [-1.06644749e+00 -2.56710982e-01  6.23840642e-02 -9.02499291e-01\n",
            "  -7.15824710e-01]\n",
            " [ 1.04154391e+00  3.73634899e-01 -1.14655690e-01 -3.85876917e-01\n",
            "   2.83644015e-01]\n",
            " [-5.00121447e-01 -6.99656737e-01 -9.99854462e-01 -8.39423303e-01\n",
            "  -1.04898095e+00]\n",
            " [-1.85301145e+00 -6.99656737e-01  4.97383675e-02 -2.26685139e-01\n",
            "   6.16800257e-01]\n",
            " [-2.16958423e-01 -6.99656737e-01  7.50297610e-02 -6.26166393e-01\n",
            "   7.00089318e-01]\n",
            " [-6.88896796e-01 -6.99656737e-01 -8.60751798e-01  2.53893813e-01\n",
            "  -1.04898095e+00]\n",
            " [-1.03498494e+00 -5.03738423e-01 -9.87208765e-01 -3.73862443e-01\n",
            "  -2.99379408e-01]\n",
            " [-1.28668540e+00 -6.99656737e-01 -7.59586224e-01 -4.60967378e-01\n",
            "   6.16800257e-01]\n",
            " [-7.51821912e-01 -6.99656737e-01 -6.33129257e-01  1.88786225e+00\n",
            "  -9.65691892e-01]\n",
            " [-5.00121447e-01  9.27317093e-01  1.88841032e-01  7.34472765e-01\n",
            "  -3.82668468e-01]\n",
            " [-1.12937261e+00 -2.82265545e-01 -5.57255076e-01 -4.81992707e-01\n",
            "  -4.65957529e-01]\n",
            " [ 6.63993208e-01 -6.99656737e-01  1.49134780e+00  5.36233947e-01\n",
            "  -9.65691892e-01]\n",
            " [-1.54033306e-01  1.94752960e-01 -7.46940527e-01 -1.07971278e+00\n",
            "  -7.99113771e-01]\n",
            " [-4.37196330e-01 -1.16535465e-03 -1.77884174e-01  1.06487079e+00\n",
            "  -7.99113771e-01]]\n"
          ]
        }
      ],
      "source": [
        "from sklearn.preprocessing import StandardScaler\n",
        "sc = StandardScaler()\n",
        "x_train = sc.fit_transform(x_train)\n",
        "x_test = sc.transform(x_test)\n",
        "\n",
        "print(x_test)\n"
      ]
    },
    {
      "cell_type": "code",
      "execution_count": null,
      "metadata": {
        "colab": {
          "base_uri": "https://localhost:8080/"
        },
        "id": "O0gEqizg8XIC",
        "outputId": "8c7069f2-5998-4e42-e6be-b55a10f60146"
      },
      "outputs": [
        {
          "output_type": "execute_result",
          "data": {
            "text/plain": [
              "KNeighborsClassifier(n_neighbors=25)"
            ]
          },
          "metadata": {},
          "execution_count": 25
        }
      ],
      "source": [
        "from sklearn.neighbors import KNeighborsClassifier\n",
        "knn = KNeighborsClassifier(n_neighbors =25, metric = 'minkowski') \n",
        "\n",
        "knn.fit(x_train, y_train)"
      ]
    },
    {
      "cell_type": "code",
      "execution_count": null,
      "metadata": {
        "id": "7fDH8LB-8XE5"
      },
      "outputs": [],
      "source": [
        "knn_y_pred = knn.predict(x_test)"
      ]
    },
    {
      "cell_type": "code",
      "execution_count": null,
      "metadata": {
        "colab": {
          "base_uri": "https://localhost:8080/"
        },
        "id": "4h9ej5B78XCB",
        "outputId": "5b6dfa03-b996-4fb6-aaef-63b7bbb09290"
      },
      "outputs": [
        {
          "output_type": "execute_result",
          "data": {
            "text/plain": [
              "array([1, 0, 0, 1, 0, 0, 1, 1, 1, 0, 1, 1, 0, 0, 0, 0, 1, 0, 0, 0, 1, 0,\n",
              "       0, 0, 0, 0, 0, 1, 0, 0, 1, 0, 0, 1, 0, 1, 0, 0, 0, 1, 0, 0, 0, 1,\n",
              "       1, 0, 0, 0, 0, 0, 1, 0, 1, 1, 0, 0, 0, 1, 0, 0, 1, 0, 0, 1, 1, 1,\n",
              "       1, 0, 1, 0, 0, 0, 0, 1, 1, 0, 0, 1, 0, 0, 0, 0, 0, 0, 0, 0, 0, 0,\n",
              "       1, 0, 0, 0, 0, 0, 1, 0, 0, 0, 1, 1, 0, 0, 0, 0, 0, 0, 0, 0, 0, 1,\n",
              "       0, 0, 1, 1, 1, 1, 0, 1, 0, 1, 0, 0, 0, 0, 0, 0, 0, 0, 0, 0, 0, 0,\n",
              "       0, 1, 0, 0, 0, 0, 0, 0, 0, 1, 0, 0, 1, 0, 0, 0, 0, 0, 0, 1, 0, 0])"
            ]
          },
          "metadata": {},
          "execution_count": 27
        }
      ],
      "source": [
        "knn_y_pred"
      ]
    },
    {
      "cell_type": "code",
      "execution_count": null,
      "metadata": {
        "colab": {
          "base_uri": "https://localhost:8080/"
        },
        "id": "9lnK9LsV8hm2",
        "outputId": "cc243986-11a7-4bde-e1c6-f125b5b74fcd"
      },
      "outputs": [
        {
          "output_type": "execute_result",
          "data": {
            "text/plain": [
              "<matplotlib.axes._subplots.AxesSubplot at 0x7fb8c3d28e50>"
            ]
          },
          "metadata": {},
          "execution_count": 28
        },
        {
          "output_type": "display_data",
          "data": {
            "text/plain": [
              "<Figure size 432x288 with 2 Axes>"
            ],
            "image/png": "[encoded data removed]"
          },
          "metadata": {
            "needs_background": "light"
          }
        }
      ],
      "source": [
        "from sklearn.metrics import confusion_matrix\n",
        "knn_cm = confusion_matrix(y_test, knn_y_pred)\n",
        "sns.heatmap(knn_cm, annot=True)"
      ]
    },
    {
      "cell_type": "code",
      "execution_count": null,
      "metadata": {
        "colab": {
          "base_uri": "https://localhost:8080/"
        },
        "id": "jkJYrMTZ8hjV",
        "outputId": "c9a06518-71f2-42f3-e376-1c8503490aab"
      },
      "outputs": [
        {
          "output_type": "stream",
          "name": "stdout",
          "text": [
            "Correct: 125\n",
            "Incorrect :  29\n",
            "Accuracy: 0.8116883116883117\n"
          ]
        }
      ],
      "source": [
        "print(\"Correct:\",sum(knn_y_pred==y_test))\n",
        "print(\"Incorrect : \",sum(knn_y_pred != y_test))\n",
        "print(\"Accuracy:\",sum(knn_y_pred ==y_test)/len(knn_y_pred))"
      ]
    },
    {
      "cell_type": "code",
      "execution_count": null,
      "metadata": {
        "colab": {
          "base_uri": "https://localhost:8080/"
        },
        "id": "_yyxOYmH8hhT",
        "outputId": "0c75bded-bb96-4815-fffb-bf4a0040cb3b"
      },
      "outputs": [
        {
          "output_type": "execute_result",
          "data": {
            "text/plain": [
              "0.8116883116883117"
            ]
          },
          "metadata": {},
          "execution_count": 30
        }
      ],
      "source": [
        "from sklearn.metrics import accuracy_score\n",
        "accuracy_score(y_test,knn_y_pred)"
      ]
    },
    {
      "cell_type": "code",
      "source": [
        "import pickle\n",
        "pickle.dump(knn,open('classifier.pkl','wb'))\n",
        "pickle.dump(sc,open('sc.pkl','wb'))"
      ],
      "metadata": {
        "id": "034-SPHVhlym"
      },
      "execution_count": null,
      "outputs": []
    }
  ],
  "metadata": {
    "colab": {
      "collapsed_sections": [],
      "name": "diabites.ipynb",
      "provenance": []
    },
    "kernelspec": {
      "display_name": "Python 3",
      "name": "python3"
    },
    "language_info": {
      "name": "python"
    }
  },
  "nbformat": 4,
  "nbformat_minor": 0
}